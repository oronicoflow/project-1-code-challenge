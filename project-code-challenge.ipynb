{
 "cells": [
  {
   "cell_type": "markdown",
   "metadata": {},
   "source": [
    "<img src=\"http://imgur.com/1ZcRyrc.png\" style=\"float: left; margin: 20px; height: 55px\">\n",
    "\n",
    "# Project 1: Python Coding Exercises\n",
    "\n",
    "_Authors: Joseph Nelson (DC)_\n",
    "\n",
    "---"
   ]
  },
  {
   "cell_type": "markdown",
   "metadata": {},
   "source": [
    "The following code challenges are drawn from common exercises used in technical interviews.\n",
    "\n",
    "Please note that there may be several ways to approach each challenge. If you get stuck, try mapping out your approach in pseudocode first. Finally, while solutions to problems like these may be found online, remember that if you copy/paste code that you can't explain, you'll be missing out on the point of the project. The only way to truly learn a new skill is through practice, trial, and error - we can only help you improve by understanding where you are having trouble."
   ]
  },
  {
   "cell_type": "markdown",
   "metadata": {},
   "source": [
    "### Challenge 1: Largest Palindrome\n",
    "A palindromic number reads the same both ways. For example, 1234321 is a palindrome. The largest palindrome made from the product of two two-digit numbers is 9009 = 91 × 99. Find the largest palindrome made from the product of two three-digit numbers. Afterward, write a brief explanation walking through your code's logic in markdown."
   ]
  },
  {
   "cell_type": "code",
   "execution_count": 14,
   "metadata": {},
   "outputs": [
    {
     "name": "stdout",
     "output_type": "stream",
     "text": [
      "828828\n"
     ]
    }
   ],
   "source": [
    "# function to find largest palindrome from product of 2 3-digit numbers <= 999^2 = 998001\n",
    "# palindrome equation will be abccba = 100000a+10000b+1000c+100c+10b+a = 100001a+10010b+1100c = 11(9091a+910b+100c) = x*y \n",
    "# find largest x and y in [100, 999] that satisfies equation above\n",
    "# y (or x) has to be a multiple of 11 \n",
    "# note that only case of 2 3-digit numbers is considered \n",
    "\n",
    "def find_largest_palindrome_3(): \n",
    "    max_z = 0 # initialize \n",
    "    for x in range(999, 100, -1): # loop through 999 to 100, in steps of -1 \n",
    "        for y in range(999, 100, -11): # loop through 999 to 100, in steps of -11\n",
    "            z = x*y \n",
    "            if z < max_z: \n",
    "                break \n",
    "            # check if z is a palindrome and set max_z to z if it is \n",
    "            if int(z) == int(str(z)[::-1]): \n",
    "                max_z = z \n",
    "    return(max_z)\n",
    "\n",
    "print(find_largest_palindrome_3()) \n"
   ]
  },
  {
   "cell_type": "markdown",
   "metadata": {},
   "source": [
    "\n",
    "### Challenge 2: Summation of Primes\n",
    "The sum of the primes below 10 is 2 + 3 + 5 + 7 = 17. Find the sum of all the primes below 2,000. Afterward, write a brief explanation walking through your code's logic in markdown."
   ]
  },
  {
   "cell_type": "code",
   "execution_count": 65,
   "metadata": {
    "scrolled": true
   },
   "outputs": [
    {
     "name": "stdout",
     "output_type": "stream",
     "text": [
      "277054\n",
      "277054\n"
     ]
    }
   ],
   "source": [
    "# function to determine if given number n is prime \n",
    "def is_prime(n):\n",
    "    # check that input n is an integer\n",
    "    if type(n) == int: \n",
    "        if n in (0,1): # 0 and 1 are not primes \n",
    "            return False\n",
    "        for m in range(2, int(n/2)): # loop through from 2 to n/2 since modulus will always be non-zero for divisors > n/2 \n",
    "            if n%m == 0: # if modulus is 0, it is not a prime \n",
    "                return False\n",
    "        return True\n",
    "    else:\n",
    "        return False \n",
    "\n",
    "# function to calculate the sum of all primes below n (i.e. not inclusive of n)\n",
    "def calc_prime_sum(n): \n",
    "    prime_sum = 0 # initialize \n",
    "    # define new variable loop_n to use in for loop below \n",
    "    if type(n) == int: \n",
    "        loop_n = n\n",
    "    elif type(n) == float: \n",
    "        loop_n = int(n) + 1 #loop should include int(n) as well, since int(n) < n \n",
    "    else: \n",
    "        print(\"input cannot be read\")\n",
    "    for i in range(2,loop_n): # loop from 2 to n-1 (1 is not a prime)\n",
    "        if is_prime(i) == True: \n",
    "            prime_sum += i # add i to prime_sum if it is prime \n",
    "    return prime_sum\n",
    "\n",
    "print(calc_prime_sum(2000))\n",
    "print(calc_prime_sum(2000.212))"
   ]
  },
  {
   "cell_type": "markdown",
   "metadata": {},
   "source": [
    "### Challenge 3: Multiples of 3 and 5\n",
    "If we list all of the natural numbers below 10 that are multiples of 3 or 5, we get 3, 5, 6, and 9. The sum of these multiples is 23. Find the sum of all the multiples of 3 and 5 below 1,000. Afterward, write a brief explanation walking through your code's logic in markdown."
   ]
  },
  {
   "cell_type": "code",
   "execution_count": 67,
   "metadata": {},
   "outputs": [
    {
     "name": "stdout",
     "output_type": "stream",
     "text": [
      "33165\n",
      "given number is not positive\n",
      "0\n",
      "0\n"
     ]
    }
   ],
   "source": [
    "# function to calculate sum of natural numbers (positive integers) below any given n \n",
    "def calc_natural_sum(n): \n",
    "    natural_sum = 0 # initialize \n",
    "    # define new variable loop_n to use in for loop below \n",
    "    if type(n) == int: \n",
    "        loop_n = n\n",
    "    elif type(n) == float: \n",
    "        loop_n = int(n) + 1 #loop should include int(n) as well, since int(n) < n \n",
    "    else: \n",
    "        print(\"input cannot be read\")\n",
    "    if loop_n > 0: \n",
    "        for i in range(1,loop_n): # loop from 1 to n-1 \n",
    "            if i%3 == 0 and i%5 == 0:\n",
    "                natural_sum += i\n",
    "    else: \n",
    "        print(\"given number is not positive\")\n",
    "    return natural_sum \n",
    "\n",
    "print(calc_natural_sum(1000.90))\n",
    "print(calc_natural_sum(-100))\n",
    "print(calc_natural_sum(0.2))"
   ]
  },
  {
   "cell_type": "markdown",
   "metadata": {},
   "source": [
    "### Challenge 4: String Compressor\n",
    "Implement a method to perform basic string compression using the counts of repeated characters. (This is called run-length encoding.) For example, the string \"aabcccccaaa\" would become a2b1c5a3. If the “compressed” string would not become smaller than the original string, your method should return the original string. You can assume the string has only uppercase and lowercase letters (a–z). Specify whether your solution is case sensitive or case insensitive and what you would need to change to make it the other. Afterward, write a brief explanation walking through your code's logic in markdown."
   ]
  },
  {
   "cell_type": "code",
   "execution_count": 104,
   "metadata": {},
   "outputs": [
    {
     "name": "stdout",
     "output_type": "stream",
     "text": [
      "a2b1c5a3\n"
     ]
    }
   ],
   "source": [
    "# \n",
    "def str_compressor(input_str): \n",
    "    output_str = \"\" # initialize \n",
    "    for i in range(len(input_str)): \n",
    "        #print(\"start loop \" + str(i))\n",
    "        if len(output_str) == 0: \n",
    "            output_str = input_str[i] + str(1)\n",
    "        elif input_str[i] == input_str[i-1]: \n",
    "            if len(output_str) == 2: \n",
    "                output_str = output_str[0] + str(int(output_str[len(output_str)-1])+1)\n",
    "            else: \n",
    "                output_str = output_str[0:(len(output_str)-1)] + str(int(output_str[len(output_str)-1])+1)\n",
    "        else: \n",
    "            output_str = output_str + input_str[i] + str(1)\n",
    "        #print(\"loop \" + str(i) + \": \" + output_str)\n",
    "    return output_str \n",
    "\n",
    "print(str_compressor(\"aabcccccaaa\"))\n",
    "            "
   ]
  },
  {
   "cell_type": "markdown",
   "metadata": {},
   "source": [
    "### *BONUS* Challenge: FizzBuzz\n",
    "Write a program that prints all of the numbers from 1 to 100. For multiples of 3, instead of the number, print \"Fizz;\" for multiples of 5, print \"Buzz.\" For numbers that are multiples of both 3 and 5, print \"FizzBuzz.\" Afterward, write a brief explanation walking through your code's logic in markdown."
   ]
  },
  {
   "cell_type": "code",
   "execution_count": null,
   "metadata": {},
   "outputs": [],
   "source": []
  },
  {
   "cell_type": "code",
   "execution_count": null,
   "metadata": {},
   "outputs": [],
   "source": []
  }
 ],
 "metadata": {
  "anaconda-cloud": {},
  "celltoolbar": "Slideshow",
  "kernelspec": {
   "display_name": "Python 3",
   "language": "python",
   "name": "python3"
  },
  "language_info": {
   "codemirror_mode": {
    "name": "ipython",
    "version": 3
   },
   "file_extension": ".py",
   "mimetype": "text/x-python",
   "name": "python",
   "nbconvert_exporter": "python",
   "pygments_lexer": "ipython3",
   "version": "3.7.3"
  },
  "toc": {
   "base_numbering": 1,
   "nav_menu": {},
   "number_sections": true,
   "sideBar": true,
   "skip_h1_title": false,
   "title_cell": "Table of Contents",
   "title_sidebar": "Contents",
   "toc_cell": false,
   "toc_position": {},
   "toc_section_display": true,
   "toc_window_display": false
  },
  "varInspector": {
   "cols": {
    "lenName": 16,
    "lenType": 16,
    "lenVar": 40
   },
   "kernels_config": {
    "python": {
     "delete_cmd_postfix": "",
     "delete_cmd_prefix": "del ",
     "library": "var_list.py",
     "varRefreshCmd": "print(var_dic_list())"
    },
    "r": {
     "delete_cmd_postfix": ") ",
     "delete_cmd_prefix": "rm(",
     "library": "var_list.r",
     "varRefreshCmd": "cat(var_dic_list()) "
    }
   },
   "types_to_exclude": [
    "module",
    "function",
    "builtin_function_or_method",
    "instance",
    "_Feature"
   ],
   "window_display": false
  }
 },
 "nbformat": 4,
 "nbformat_minor": 2
}
