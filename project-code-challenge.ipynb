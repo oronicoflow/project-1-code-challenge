{
 "cells": [
  {
   "cell_type": "markdown",
   "metadata": {},
   "source": [
    "<img src=\"http://imgur.com/1ZcRyrc.png\" style=\"float: left; margin: 20px; height: 55px\">\n",
    "\n",
    "# Project 1: Python Coding Exercises\n",
    "\n",
    "_Authors: Joseph Nelson (DC)_\n",
    "\n",
    "---"
   ]
  },
  {
   "cell_type": "markdown",
   "metadata": {},
   "source": [
    "The following code challenges are drawn from common exercises used in technical interviews.\n",
    "\n",
    "Please note that there may be several ways to approach each challenge. If you get stuck, try mapping out your approach in pseudocode first. Finally, while solutions to problems like these may be found online, remember that if you copy/paste code that you can't explain, you'll be missing out on the point of the project. The only way to truly learn a new skill is through practice, trial, and error - we can only help you improve by understanding where you are having trouble."
   ]
  },
  {
   "cell_type": "markdown",
   "metadata": {},
   "source": [
    "### Challenge 1: Largest Palindrome\n",
    "A palindromic number reads the same both ways. For example, 1234321 is a palindrome. The largest palindrome made from the product of two two-digit numbers is 9009 = 91 × 99. Find the largest palindrome made from the product of two three-digit numbers. Afterward, write a brief explanation walking through your code's logic in markdown."
   ]
  },
  {
   "cell_type": "code",
   "execution_count": 23,
   "metadata": {},
   "outputs": [
    {
     "name": "stdout",
     "output_type": "stream",
     "text": [
      "The largest palindrome is 906609 which is a product of 913 and 993\n"
     ]
    }
   ],
   "source": [
    "# z is largest palindrome from product of 2 3-digit numbers x and y\n",
    "\n",
    "# initialize \n",
    "max_x = 0 \n",
    "max_y = 0\n",
    "max_z = 0  \n",
    "for x in range(999, 100, -1): # loop through 999 to 100, in steps of -1 \n",
    "    for y in range(999, 100, -1): # loop through 999 to 100, in steps of -1\n",
    "        z = x*y\n",
    "        if z < max_z: \n",
    "            break \n",
    "        # check if z is a palindrome and set max_z to z if it is \n",
    "        if int(z) == int(str(z)[::-1]): \n",
    "            max_x = x\n",
    "            max_y = y\n",
    "            max_z = z\n",
    "            \n",
    "print(\"The largest palindrome is \" + str(max_z) + \" which is a product of \" + str(max_x) + \" and \" + str(max_y))  \n"
   ]
  },
  {
   "cell_type": "code",
   "execution_count": 37,
   "metadata": {},
   "outputs": [
    {
     "data": {
      "text/plain": [
       "906609"
      ]
     },
     "execution_count": 37,
     "metadata": {},
     "output_type": "execute_result"
    }
   ],
   "source": [
    "# shorter \n",
    "max([x * y for x in range(999,100,-1) for y in range(999,100,-1) if x*y == int(str(x*y)[::-1])])"
   ]
  },
  {
   "cell_type": "markdown",
   "metadata": {},
   "source": [
    "\n",
    "### Challenge 2: Summation of Primes\n",
    "The sum of the primes below 10 is 2 + 3 + 5 + 7 = 17. Find the sum of all the primes below 2,000. Afterward, write a brief explanation walking through your code's logic in markdown."
   ]
  },
  {
   "cell_type": "code",
   "execution_count": 26,
   "metadata": {
    "scrolled": true
   },
   "outputs": [
    {
     "name": "stdout",
     "output_type": "stream",
     "text": [
      "303\n",
      "277050\n",
      "303\n",
      "277050\n"
     ]
    }
   ],
   "source": [
    "# function to determine if given number n is prime \n",
    "def is_prime(n):\n",
    "    # check that input n is an integer\n",
    "    if type(n) == int: \n",
    "        if n in (0,1): # 0 and 1 are not primes \n",
    "            return False\n",
    "        for m in range(2, int(n/2)+1): # loop through from 2 to n/2 since modulus will always be non-zero for divisors > n/2 \n",
    "            if n%m == 0: # if modulus is 0, it is not a prime \n",
    "                return False\n",
    "        return True\n",
    "    else:\n",
    "        return False \n",
    "\n",
    "# function to calculate the sum of all primes below n (i.e. not inclusive of n)\n",
    "def calc_prime_sum(n): \n",
    "    prime_sum = 0 # initialize for sum of primes\n",
    "    count_primes = 0 # initialize for number of primes used to calculate sum; not really needed \n",
    "    # define new variable loop_n to use in for loop below \n",
    "    if type(n) == int: \n",
    "        loop_n = n\n",
    "    elif type(n) == float: \n",
    "        loop_n = int(n) + 1 #loop should include int(n) as well, since int(n) < n \n",
    "    else: \n",
    "        print(\"input cannot be read\")\n",
    "    # loop from 2 to n-1 (1 is not a prime)\n",
    "    for i in range(2,loop_n): \n",
    "        if is_prime(i) == True: \n",
    "            prime_sum += i # add i to prime_sum if it is prime \n",
    "            count_primes += 1 # add to count of primes \n",
    "    #print(count_primes)\n",
    "    return prime_sum\n",
    "\n",
    "# test the function\n",
    "print(calc_prime_sum(2000))\n",
    "print(calc_prime_sum(2000.212))"
   ]
  },
  {
   "cell_type": "code",
   "execution_count": 39,
   "metadata": {},
   "outputs": [
    {
     "data": {
      "text/plain": [
       "277050"
      ]
     },
     "execution_count": 39,
     "metadata": {},
     "output_type": "execute_result"
    }
   ],
   "source": [
    "# shorter but requires is_prime\n",
    "sum([number for number in range(2000) if is_prime(number)])"
   ]
  },
  {
   "cell_type": "markdown",
   "metadata": {},
   "source": [
    "### Challenge 3: Multiples of 3 and 5\n",
    "If we list all of the natural numbers below 10 that are multiples of 3 or 5, we get 3, 5, 6, and 9. The sum of these multiples is 23. Find the sum of all the multiples of 3 and 5 below 1,000. Afterward, write a brief explanation walking through your code's logic in markdown."
   ]
  },
  {
   "cell_type": "code",
   "execution_count": 36,
   "metadata": {},
   "outputs": [
    {
     "name": "stdout",
     "output_type": "stream",
     "text": [
      "233168\n",
      "234168\n",
      "23\n",
      "0\n",
      "given number is not positive\n",
      "0\n"
     ]
    }
   ],
   "source": [
    "# function to calculate sum of natural numbers (positive integers) below any given n \n",
    "def calc_natural_sum(n): \n",
    "    natural_sum = 0 # initialize \n",
    "    # define new variable loop_n to use in for loop below \n",
    "    if type(n) == int: \n",
    "        loop_n = n\n",
    "    elif type(n) == float: \n",
    "        loop_n = int(n) + 1 #loop should include int(n) as well, since int(n) < n \n",
    "    else: \n",
    "        print(\"input cannot be read\")\n",
    "    if loop_n > 0: \n",
    "        for i in range(1,loop_n): # loop from 1 to n-1 \n",
    "            if i%3 == 0: \n",
    "                natural_sum += i \n",
    "            elif i%5 == 0:\n",
    "                natural_sum += i\n",
    "    else: \n",
    "        print(\"given number is not positive\")\n",
    "    return natural_sum \n",
    "\n",
    "# test the function \n",
    "print(calc_natural_sum(1000))\n",
    "print(calc_natural_sum(1000.50))\n",
    "print(calc_natural_sum(10))\n",
    "print(calc_natural_sum(0.2))\n",
    "print(calc_natural_sum(-100))"
   ]
  },
  {
   "cell_type": "code",
   "execution_count": 40,
   "metadata": {},
   "outputs": [
    {
     "data": {
      "text/plain": [
       "233168"
      ]
     },
     "execution_count": 40,
     "metadata": {},
     "output_type": "execute_result"
    }
   ],
   "source": [
    "# shorter \n",
    "sum([number for number in range(1000) if number > 0 and (number%3==0 or number%5==0)])"
   ]
  },
  {
   "cell_type": "code",
   "execution_count": null,
   "metadata": {},
   "outputs": [],
   "source": []
  },
  {
   "cell_type": "markdown",
   "metadata": {},
   "source": [
    "### Challenge 4: String Compressor\n",
    "Implement a method to perform basic string compression using the counts of repeated characters. (This is called run-length encoding.) For example, the string \"aabcccccaaa\" would become a2b1c5a3. If the “compressed” string would not become smaller than the original string, your method should return the original string. You can assume the string has only uppercase and lowercase letters (a–z). Specify whether your solution is case sensitive or case insensitive and what you would need to change to make it the other. Afterward, write a brief explanation walking through your code's logic in markdown."
   ]
  },
  {
   "cell_type": "code",
   "execution_count": 43,
   "metadata": {},
   "outputs": [
    {
     "name": "stdout",
     "output_type": "stream",
     "text": [
      "a2b1c5a3\n",
      "a1\n"
     ]
    }
   ],
   "source": [
    "def str_compressor(input_str): \n",
    "    output_str = \"\" # initialize \n",
    "    for i in range(len(input_str)): \n",
    "        #print(\"start loop \" + str(i))\n",
    "        if len(output_str) == 0: \n",
    "            output_str = input_str[i] + str(1)\n",
    "        elif input_str[i] == input_str[i-1]: \n",
    "            if len(output_str) == 2: # to handle case where first 2 letters of input_str are the same \n",
    "                output_str = output_str[0] + str(int(output_str[len(output_str)-1])+1)\n",
    "            else: \n",
    "                output_str = output_str[0:(len(output_str)-1)] + str(int(output_str[len(output_str)-1])+1)\n",
    "        else: \n",
    "            output_str = output_str + input_str[i] + str(1)\n",
    "        #print(\"loop \" + str(i) + \": \" + output_str)\n",
    "    return output_str \n",
    "\n",
    "print(str_compressor(\"aabcccccaaa\"))\n",
    "print(str_compressor(\"a\"))\n",
    "            "
   ]
  },
  {
   "cell_type": "markdown",
   "metadata": {},
   "source": [
    "### *BONUS* Challenge: FizzBuzz\n",
    "n = 1Write a program that prints all of the numbers from 1 to 100. For multiples of 3, instead of the number, print \"Fizz;\" for multiples of 5, print \"Buzz.\" For numbers that are multiples of both 3 and 5, print \"FizzBuzz.\" Afterward, write a brief explanation walking through your code's logic in markdown."
   ]
  },
  {
   "cell_type": "code",
   "execution_count": 42,
   "metadata": {},
   "outputs": [
    {
     "name": "stdout",
     "output_type": "stream",
     "text": [
      "1\n",
      "2\n",
      "Fizz\n",
      "4\n",
      "Buzz\n",
      "Fizz\n",
      "7\n",
      "8\n",
      "Fizz\n",
      "Buzz\n",
      "11\n",
      "Fizz\n",
      "13\n",
      "14\n",
      "FizzBuzz\n",
      "16\n",
      "17\n",
      "Fizz\n",
      "19\n",
      "Buzz\n",
      "Fizz\n",
      "22\n",
      "23\n",
      "Fizz\n",
      "Buzz\n",
      "26\n",
      "Fizz\n",
      "28\n",
      "29\n",
      "FizzBuzz\n",
      "31\n",
      "32\n",
      "Fizz\n",
      "34\n",
      "Buzz\n",
      "Fizz\n",
      "37\n",
      "38\n",
      "Fizz\n",
      "Buzz\n",
      "41\n",
      "Fizz\n",
      "43\n",
      "44\n",
      "FizzBuzz\n",
      "46\n",
      "47\n",
      "Fizz\n",
      "49\n",
      "Buzz\n",
      "Fizz\n",
      "52\n",
      "53\n",
      "Fizz\n",
      "Buzz\n",
      "56\n",
      "Fizz\n",
      "58\n",
      "59\n",
      "FizzBuzz\n",
      "61\n",
      "62\n",
      "Fizz\n",
      "64\n",
      "Buzz\n",
      "Fizz\n",
      "67\n",
      "68\n",
      "Fizz\n",
      "Buzz\n",
      "71\n",
      "Fizz\n",
      "73\n",
      "74\n",
      "FizzBuzz\n",
      "76\n",
      "77\n",
      "Fizz\n",
      "79\n",
      "Buzz\n",
      "Fizz\n",
      "82\n",
      "83\n",
      "Fizz\n",
      "Buzz\n",
      "86\n",
      "Fizz\n",
      "88\n",
      "89\n",
      "FizzBuzz\n",
      "91\n",
      "92\n",
      "Fizz\n",
      "94\n",
      "Buzz\n",
      "Fizz\n",
      "97\n",
      "98\n",
      "Fizz\n",
      "Buzz\n"
     ]
    }
   ],
   "source": [
    "n = 100\n",
    "for i in range(1,int(n+1)): \n",
    "    if i%3 == 0 and i%5 == 0: # first check if multiple of both 3 and 5 \n",
    "        print(\"FizzBuzz\")\n",
    "    elif i%3 == 0: # check if multiple of 3\n",
    "        print(\"Fizz\")\n",
    "    elif i%5 == 0: # check if multiple of 5\n",
    "        print(\"Buzz\") \n",
    "    else: # not a multiple of 3 or 5 \n",
    "        print(i)\n"
   ]
  },
  {
   "cell_type": "code",
   "execution_count": null,
   "metadata": {},
   "outputs": [],
   "source": []
  }
 ],
 "metadata": {
  "anaconda-cloud": {},
  "celltoolbar": "Slideshow",
  "kernelspec": {
   "display_name": "Python 3",
   "language": "python",
   "name": "python3"
  },
  "language_info": {
   "codemirror_mode": {
    "name": "ipython",
    "version": 3
   },
   "file_extension": ".py",
   "mimetype": "text/x-python",
   "name": "python",
   "nbconvert_exporter": "python",
   "pygments_lexer": "ipython3",
   "version": "3.7.3"
  },
  "toc": {
   "base_numbering": 1,
   "nav_menu": {},
   "number_sections": true,
   "sideBar": true,
   "skip_h1_title": false,
   "title_cell": "Table of Contents",
   "title_sidebar": "Contents",
   "toc_cell": false,
   "toc_position": {},
   "toc_section_display": true,
   "toc_window_display": false
  },
  "varInspector": {
   "cols": {
    "lenName": 16,
    "lenType": 16,
    "lenVar": 40
   },
   "kernels_config": {
    "python": {
     "delete_cmd_postfix": "",
     "delete_cmd_prefix": "del ",
     "library": "var_list.py",
     "varRefreshCmd": "print(var_dic_list())"
    },
    "r": {
     "delete_cmd_postfix": ") ",
     "delete_cmd_prefix": "rm(",
     "library": "var_list.r",
     "varRefreshCmd": "cat(var_dic_list()) "
    }
   },
   "types_to_exclude": [
    "module",
    "function",
    "builtin_function_or_method",
    "instance",
    "_Feature"
   ],
   "window_display": false
  }
 },
 "nbformat": 4,
 "nbformat_minor": 2
}
